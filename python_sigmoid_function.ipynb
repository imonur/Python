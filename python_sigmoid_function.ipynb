import numpy as np
import matplotlib.pyplot as plt

girdi_1 = np.array([6,9])

agirlik_1 = {'dugum_1': np.array([-2,2]), 'dugum_2': np.array([-1,2])}

girdi_21 = (girdi_1 * agirlik_1['dugum_1']).sum()

girdi_22 = (girdi_1 * agirlik_1['dugum_2']).sum()

girdi_2 = np.array([girdi_21, girdi_22])

agirlik_2 = np.array([2,1])

cikti = (girdi_2 * agirlik_2).sum()

girdi_21

girdi_22

cikti

def sig(x):
 return 1/(1 + np.exp(-x))

x = 1.0
print('Applying Sigmoid Activation on (%.1f) gives %.1f' % (x, sig(x)))

x = -10.0
print('Applying Sigmoid Activation on (%.1f) gives %.1f' % (x, sig(x)))

x = 0.0
print('Applying Sigmoid Activation on (%.1f) gives %.1f' % (x, sig(x)))

x = 15.0
print('Applying Sigmoid Activation on (%.1f) gives %.1f' % (x, sig(x)))

x = -2.0
print('Applying Sigmoid Activation on (%.1f) gives %.1f' % (x, sig(x)))

x = np.linspace(-10, 10, 50)

p = sig(x)

def inverse_log_odds(z):
    return 1.0 / (1.0 + np.exp(-z))

z = np.arange(-7, 7, 0.1)
phi_z = inverse_log_odds(z)

plt.plot(z, phi_z)
plt.axvline(0.0, color='k')
plt.ylim(-0.1, 1.1)
plt.xlabel('x')
plt.ylabel("1/1+e^-x")

# y axis ticks and gridline
plt.yticks([0.0, 0.5, 1.0])
ax = plt.gca()
ax.yaxis.grid(True)

plt.title("Sigmoid Fonksiyonu")

plt.tight_layout()
plt.show()
